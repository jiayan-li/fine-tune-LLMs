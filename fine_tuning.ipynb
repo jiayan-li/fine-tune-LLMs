{
 "cells": [
  {
   "cell_type": "code",
   "execution_count": null,
   "metadata": {},
   "outputs": [
    {
     "data": {
      "text/plain": [
       "False"
      ]
     },
     "metadata": {},
     "output_type": "display_data"
    }
   ],
   "source": [
    "import torch\n",
    "torch.cuda.is_available()"
   ]
  },
  {
   "cell_type": "markdown",
   "metadata": {},
   "source": [
    "# Fine-tune DistilBERT for Sentiment Analysis\n",
    "\n",
    "In this notebook, we will fine-tune a pre-trained DistilBERT model to perform sentiment analysis on the IMDB dataset. We will:\n",
    "- Prepare the dataset for training and evaluation\n",
    "- Tokenize the dataset\n",
    "- Fine-tune the DistilBERT model for sentiment analysis\n",
    "- Evaluate the model on the test set\n",
    "- Perform inference on custom sentences\n",
    "- Compare the model with a non-fine-tuned baseline model"
   ]
  },
  {
   "cell_type": "markdown",
   "metadata": {},
   "source": [
    "## Data Preparation\n",
    "- Read the input data\n",
    "- Split the data into training and testing data"
   ]
  },
  {
   "cell_type": "code",
   "execution_count": null,
   "metadata": {},
   "outputs": [],
   "source": [
    "import torch\n",
    "import torch.nn as nn\n",
    "import torch.optim as optim\n",
    "from transformers import DistilBertTokenizer, DistilBertForSequenceClassification\n",
    "from datasets import load_dataset\n",
    "\n",
    "# Load the IMDb dataset\n",
    "dataset = load_dataset('imdb')\n",
    "\n",
    "# Load the tokenizer\n",
    "tokenizer = DistilBertTokenizer.from_pretrained('distilbert-base-uncased')\n",
    "\n",
    "# Tokenize the input\n",
    "def tokenize(batch):\n",
    "    return tokenizer(batch['text'], padding='max_length', truncation=True, max_length=512)\n",
    "\n",
    "# Select a smaller subset of data for faster prototyping\n",
    "train_dataset = dataset['train'].shuffle(seed=42).select(range(1000))\n",
    "test_dataset = dataset['test'].shuffle(seed=42).select(range(1000))\n",
    "\n",
    "# Tokenize using multiple processes\n",
    "train_dataset = train_dataset.map(tokenize, batched=True, num_proc=4)\n",
    "test_dataset = test_dataset.map(tokenize, batched=True, num_proc=4)\n",
    "\n",
    "# Set the format for PyTorch\n",
    "train_dataset.set_format('torch', columns=['input_ids', 'attention_mask', 'label'])\n",
    "test_dataset.set_format('torch', columns=['input_ids', 'attention_mask', 'label'])"
   ]
  },
  {
   "cell_type": "code",
   "execution_count": null,
   "metadata": {},
   "outputs": [
    {
     "data": {
      "text/plain": [
       "Dataset({\n",
       "    features: ['text', 'label', 'input_ids', 'attention_mask'],\n",
       "    num_rows: 1000\n",
       "})"
      ]
     },
     "metadata": {},
     "output_type": "display_data"
    }
   ],
   "source": [
    "train_dataset"
   ]
  },
  {
   "cell_type": "code",
   "execution_count": null,
   "metadata": {},
   "outputs": [
    {
     "name": "stderr",
     "output_type": "stream",
     "text": [
      "Some weights of DistilBertForSequenceClassification were not initialized from the model checkpoint at distilbert-base-uncased and are newly initialized: ['classifier.bias', 'classifier.weight', 'pre_classifier.bias', 'pre_classifier.weight']\n",
      "You should probably TRAIN this model on a down-stream task to be able to use it for predictions and inference.\n"
     ]
    }
   ],
   "source": [
    "# num_labels = 2 for binary classification, it aligns with the number of labels in the IMDb dataset\n",
    "model = DistilBertForSequenceClassification.from_pretrained('distilbert-base-uncased', num_labels=2)"
   ]
  },
  {
   "cell_type": "code",
   "execution_count": null,
   "metadata": {},
   "outputs": [],
   "source": [
    "from torch.utils.data import DataLoader\n",
    "\n",
    "train_loader = DataLoader(train_dataset, batch_size=8, shuffle=True)\n",
    "test_loader = DataLoader(test_dataset, batch_size=8)"
   ]
  },
  {
   "cell_type": "markdown",
   "metadata": {},
   "source": [
    "## Model Training"
   ]
  },
  {
   "cell_type": "markdown",
   "metadata": {},
   "source": [
    "- The `input_id`s provide the tokenized numerical representation of the input text, which the model uses to generate embeddings for each token. These embeddings are then used for further processing within the model.\n",
    "- The `attention_mask` tells the model which tokens are actual input data and which tokens are padding. "
   ]
  },
  {
   "cell_type": "code",
   "execution_count": null,
   "metadata": {},
   "outputs": [],
   "source": [
    "from tqdm import tqdm  # Import tqdm for progress bars"
   ]
  },
  {
   "cell_type": "code",
   "execution_count": null,
   "metadata": {},
   "outputs": [
    {
     "name": "stdout",
     "output_type": "stream",
     "text": [
      "Epoch 1/3\n"
     ]
    },
    {
     "name": "stderr",
     "output_type": "stream",
     "text": [
      "Training: 100%|██████████| 125/125 [07:29<00:00,  3.59s/it]\n"
     ]
    },
    {
     "name": "stdout",
     "output_type": "stream",
     "text": [
      "Training Loss: 0.4019\n"
     ]
    },
    {
     "name": "stderr",
     "output_type": "stream",
     "text": [
      "Evaluating: 100%|██████████| 125/125 [02:03<00:00,  1.01it/s]\n"
     ]
    },
    {
     "name": "stdout",
     "output_type": "stream",
     "text": [
      "Validation Accuracy: 86.30%\n",
      "Epoch 2/3\n"
     ]
    },
    {
     "name": "stderr",
     "output_type": "stream",
     "text": [
      "Training: 100%|██████████| 125/125 [08:21<00:00,  4.01s/it]\n"
     ]
    },
    {
     "name": "stdout",
     "output_type": "stream",
     "text": [
      "Training Loss: 0.2038\n"
     ]
    },
    {
     "name": "stderr",
     "output_type": "stream",
     "text": [
      "Evaluating: 100%|██████████| 125/125 [02:01<00:00,  1.03it/s]\n"
     ]
    },
    {
     "name": "stdout",
     "output_type": "stream",
     "text": [
      "Validation Accuracy: 84.10%\n",
      "Epoch 3/3\n"
     ]
    },
    {
     "name": "stderr",
     "output_type": "stream",
     "text": [
      "Training: 100%|██████████| 125/125 [09:18<00:00,  4.47s/it]\n"
     ]
    },
    {
     "name": "stdout",
     "output_type": "stream",
     "text": [
      "Training Loss: 0.1108\n"
     ]
    },
    {
     "name": "stderr",
     "output_type": "stream",
     "text": [
      "Evaluating: 100%|██████████| 125/125 [02:14<00:00,  1.07s/it]"
     ]
    },
    {
     "name": "stdout",
     "output_type": "stream",
     "text": [
      "Validation Accuracy: 85.40%\n"
     ]
    },
    {
     "name": "stderr",
     "output_type": "stream",
     "text": [
      "\n"
     ]
    }
   ],
   "source": [
    "device = torch.device(\"cuda\" if torch.cuda.is_available() else \"cpu\")\n",
    "model.to(device)\n",
    "\n",
    "optimizer = optim.AdamW(model.parameters(), lr=5e-5)\n",
    "\n",
    "# Training loop\n",
    "def train(model, train_loader, optimizer, device):\n",
    "    model.train()\n",
    "    total_loss = 0\n",
    "    for batch in tqdm(train_loader, desc=\"Training\"):\n",
    "        optimizer.zero_grad()\n",
    "        inputs = {key: value.to(device) for key, value in batch.items() if key in ['input_ids', 'attention_mask']}\n",
    "        labels = batch['label'].to(device)\n",
    "        outputs = model(**inputs, labels=labels)\n",
    "        loss = outputs.loss\n",
    "        loss.backward()\n",
    "        optimizer.step()    # Update the weights\n",
    "        total_loss += loss.item()\n",
    "    return total_loss / len(train_loader)\n",
    "\n",
    "# Evaluation loop\n",
    "def evaluate(model, test_loader, device):\n",
    "    model.eval()\n",
    "    correct = 0\n",
    "    total = 0\n",
    "    with torch.no_grad():\n",
    "        for batch in tqdm(test_loader, desc=\"Evaluating\"):\n",
    "            inputs = {key: value.to(device) for key, value in batch.items() if key in ['input_ids', 'attention_mask']}\n",
    "            labels = batch['label'].to(device)\n",
    "            outputs = model(**inputs)\n",
    "            _, predicted = torch.max(outputs.logits, 1)\n",
    "            total += labels.size(0)\n",
    "            correct += (predicted == labels).sum().item()\n",
    "    return 100 * correct / total\n",
    "    \n",
    "\n",
    "# Train and evaluate the model\n",
    "num_epochs = 3\n",
    "for epoch in range(num_epochs):\n",
    "    print(f\"Epoch {epoch + 1}/{num_epochs}\")\n",
    "    train_loss = train(model, train_loader, optimizer, device)\n",
    "    print(f\"Training Loss: {train_loss:.4f}\")\n",
    "    accuracy = evaluate(model, test_loader, device)\n",
    "    print(f\"Validation Accuracy: {accuracy:.2f}%\")\n",
    "\n",
    "# Save the model\n",
    "# model.save_pretrained('./distilbert_imdb')\n",
    "# tokenizer.save_pretrained('./distilbert_imdb')\n"
   ]
  },
  {
   "cell_type": "markdown",
   "metadata": {},
   "source": [
    "## Evaluation\n",
    "Compare the performance of the model after fine-tuning with the performance of the model before fine-tuning. The model should perform better after fine-tuning because it has been trained on a dataset that is more similar to the target task."
   ]
  },
  {
   "cell_type": "code",
   "execution_count": null,
   "metadata": {},
   "outputs": [],
   "source": [
    "# Evaluation function\n",
    "def final_evaluate(model, test_dataset, device):\n",
    "    model.eval()\n",
    "    y_true = []\n",
    "    y_pred = []\n",
    "    inputs = {key: test_dataset[key].to(device) for key in ['input_ids', 'attention_mask']}\n",
    "    labels = test_dataset['label'].to(device)\n",
    "    with torch.no_grad():\n",
    "        outputs = model(**inputs)\n",
    "        logits = outputs.logits\n",
    "        # Using argmax along the last dimension to get the predicted class\n",
    "        predictions = torch.argmax(logits, dim=-1)\n",
    "        y_true.extend(labels.cpu().numpy())\n",
    "        y_pred.extend(predictions.cpu().numpy())\n",
    "    return y_true, y_pred"
   ]
  },
  {
   "cell_type": "code",
   "execution_count": null,
   "metadata": {},
   "outputs": [
    {
     "name": "stderr",
     "output_type": "stream",
     "text": [
      "Some weights of DistilBertForSequenceClassification were not initialized from the model checkpoint at distilbert-base-uncased and are newly initialized: ['classifier.bias', 'classifier.weight', 'pre_classifier.bias', 'pre_classifier.weight']\n",
      "You should probably TRAIN this model on a down-stream task to be able to use it for predictions and inference.\n"
     ]
    }
   ],
   "source": [
    "pretrained_model = DistilBertForSequenceClassification.from_pretrained('distilbert-base-uncased', num_labels=2)"
   ]
  },
  {
   "cell_type": "code",
   "execution_count": null,
   "metadata": {},
   "outputs": [
    {
     "name": "stdout",
     "output_type": "stream",
     "text": [
      "Pre-trained Model Accuracy: 0.44\n",
      "Pre-trained Model Precision: 0.41\n",
      "Pre-trained Model Recall: 0.37\n",
      "Pre-trained Model F1 Score: 0.39\n"
     ]
    }
   ],
   "source": [
    "from sklearn.metrics import accuracy_score, precision_recall_fscore_support\n",
    "\n",
    "# Evaluate the pre-trained model\n",
    "y_true_pretrained, y_pred_pretrained = final_evaluate(pretrained_model, test_dataset, device)\n",
    "accuracy_pretrained = accuracy_score(y_true_pretrained, y_pred_pretrained)\n",
    "precision_pretrained, recall_pretrained, f1_pretrained, _ = precision_recall_fscore_support(y_true_pretrained, y_pred_pretrained, average='binary')\n",
    "print(f\"Pre-trained Model Accuracy: {accuracy_pretrained:.2f}\")\n",
    "print(f\"Pre-trained Model Precision: {precision_pretrained:.2f}\")\n",
    "print(f\"Pre-trained Model Recall: {recall_pretrained:.2f}\")\n",
    "print(f\"Pre-trained Model F1 Score: {f1_pretrained:.2f}\")"
   ]
  },
  {
   "cell_type": "code",
   "execution_count": null,
   "metadata": {},
   "outputs": [
    {
     "name": "stdout",
     "output_type": "stream",
     "text": [
      "Fine-tuned Model Accuracy: 0.85\n",
      "Fine-tuned Model Precision: 0.86\n",
      "Fine-tuned Model Recall: 0.84\n",
      "Fine-tuned Model F1 Score: 0.85\n"
     ]
    }
   ],
   "source": [
    "# Evaluate the fine-tuned model\n",
    "y_true_finetuned, y_pred_finetuned = final_evaluate(model, test_dataset, device)\n",
    "accuracy_finetuned = accuracy_score(y_true_finetuned, y_pred_finetuned)\n",
    "precision_finetuned, recall_finetuned, f1_finetuned, _ = precision_recall_fscore_support(y_true_finetuned, y_pred_finetuned, average='binary')\n",
    "print(f\"Fine-tuned Model Accuracy: {accuracy_finetuned:.2f}\")\n",
    "print(f\"Fine-tuned Model Precision: {precision_finetuned:.2f}\")\n",
    "print(f\"Fine-tuned Model Recall: {recall_finetuned:.2f}\")\n",
    "print(f\"Fine-tuned Model F1 Score: {f1_finetuned:.2f}\")"
   ]
  }
 ],
 "metadata": {
  "language_info": {
   "name": "python"
  }
 },
 "nbformat": 4,
 "nbformat_minor": 2
}
